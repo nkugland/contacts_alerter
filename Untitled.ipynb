{
 "cells": [
  {
   "cell_type": "markdown",
   "metadata": {},
   "source": [
    "# TODO\n",
    "- read contacts\n",
    "    - alert based on last touch\n",
    "- write\n",
    "    - update personal flags per YAML\n",
    "- packageify"
   ]
  },
  {
   "cell_type": "code",
   "execution_count": 30,
   "metadata": {},
   "outputs": [],
   "source": [
    "import gdata\n",
    "import json\n",
    "import requests\n",
    "import atom.data\n",
    "import gdata.data\n",
    "import gdata.contacts.client\n",
    "import gdata.contacts.data"
   ]
  },
  {
   "cell_type": "code",
   "execution_count": null,
   "metadata": {
    "collapsed": true
   },
   "outputs": [],
   "source": [
    "def PrintAllContacts(gd_client):\n",
    "  feed = gd_client.GetContacts()\n",
    "  for i, entry in enumerate(feed.entry):\n",
    "    print '\\n%s %s' % (i+1, entry.name.full_name.text)\n",
    "    if entry.content:\n",
    "      print '    %s' % (entry.content.text)\n",
    "    # Display the primary email address for the contact.\n",
    "    for email in entry.email:\n",
    "      if email.primary and email.primary == 'true':\n",
    "        print '    %s' % (email.address)\n",
    "    # Show the contact groups that this contact is a member of.\n",
    "    for group in entry.group_membership_info:\n",
    "      print '    Member of group: %s' % (group.href)\n",
    "    # Display extended properties.\n",
    "    for extended_property in entry.extended_property:\n",
    "      if extended_property.value:\n",
    "        value = extended_property.value\n",
    "      else:\n",
    "        value = extended_property.GetXmlBlob()\n",
    "      print '    Extended Property - %s: %s' % (extended_property.name, value)"
   ]
  },
  {
   "cell_type": "code",
   "execution_count": 12,
   "metadata": {},
   "outputs": [],
   "source": [
    "# with open('/Users/nkugland/google_api_nk_local_client_id.json') as f:\n",
    "#     credentials = json.loads(f.readline())"
   ]
  },
  {
   "cell_type": "code",
   "execution_count": 22,
   "metadata": {},
   "outputs": [],
   "source": [
    "# from oauth2client.service_account import ServiceAccountCredentials\n",
    "\n",
    "# scopes = ['https://www.googleapis.com/auth/people']\n",
    "\n",
    "# credentials = ServiceAccountCredentials.from_json_keyfile_name(\n",
    "#     '/Users/nkugland/google_api_service_contacts-alerter-3620cf1767ff.json', scopes)"
   ]
  },
  {
   "cell_type": "code",
   "execution_count": 29,
   "metadata": {},
   "outputs": [],
   "source": [
    "# from oauth2client.client import flow_from_clientsecrets\n",
    "# flow = flow_from_clientsecrets('/Users/nkugland/google_api_client_secret_884076901466-9ib6d59doo0dq1fn8c5p9e5mkd4elckl.apps.googleusercontent.com.json',\n",
    "#                                scope='https://www.googleapis.com/auth/contacts.readonly',\n",
    "#                               redirect_uri='http://localhost:8080')\n",
    "# auth_uri = flow.step1_get_authorize_url()\n",
    "# auth_uri"
   ]
  },
  {
   "cell_type": "code",
   "execution_count": 28,
   "metadata": {},
   "outputs": [],
   "source": [
    "# # GData with access token\n",
    "# token = gdata.gauth.OAuth2Token(\n",
    "#     client_id=credentials['client_id'],\n",
    "#     client_secret=credentials['client_secret'],\n",
    "#     scope='https://www.google.com/m8/feeds',\n",
    "#     user_agent='app.testing',\n",
    "#     access_token=access_token)\n",
    "\n",
    "# contact_client = gdata.contacts.client.ContactsClient()\n",
    "# token.authorize(contact_client)\n",
    "\n",
    "# feed = contact_client.GetContacts()\n",
    "\n",
    "# for entry in feed.entry:\n",
    "#     entry.title.text\n",
    "#     for e in entry.email:\n",
    "#         e.address\n",
    "\n",
    "# # JSON with access token\n",
    "# r = requests.get('https://www.google.com/m8/feeds/contacts/default/full?access_token=%s&alt=json&max-results=50&start-index=0' % (access_token))\n",
    "# data = json.loads(r.text)"
   ]
  },
  {
   "cell_type": "code",
   "execution_count": null,
   "metadata": {
    "collapsed": true
   },
   "outputs": [],
   "source": []
  }
 ],
 "metadata": {
  "kernelspec": {
   "display_name": "Python 2",
   "language": "python",
   "name": "python2"
  },
  "language_info": {
   "codemirror_mode": {
    "name": "ipython",
    "version": 2
   },
   "file_extension": ".py",
   "mimetype": "text/x-python",
   "name": "python",
   "nbconvert_exporter": "python",
   "pygments_lexer": "ipython2",
   "version": "2.7.10"
  }
 },
 "nbformat": 4,
 "nbformat_minor": 1
}
